{
  "nbformat": 4,
  "nbformat_minor": 0,
  "metadata": {
    "colab": {
      "provenance": [],
      "gpuType": "T4"
    },
    "kernelspec": {
      "name": "python3",
      "display_name": "Python 3"
    },
    "language_info": {
      "name": "python"
    },
    "accelerator": "GPU"
  },
  "cells": [
    {
      "cell_type": "code",
      "execution_count": null,
      "metadata": {
        "id": "XfDvA8ZKN9TT"
      },
      "outputs": [],
      "source": [
        "from tensorflow.keras.preprocessing import image"
      ]
    },
    {
      "cell_type": "markdown",
      "source": [],
      "metadata": {
        "id": "Ee8eU4m5O3v7"
      }
    },
    {
      "cell_type": "code",
      "source": [
        "img = image.load_img('/content/1163.jpg', target_size=(224,224))"
      ],
      "metadata": {
        "id": "L1Ro6XhbONfh"
      },
      "execution_count": null,
      "outputs": []
    },
    {
      "cell_type": "code",
      "source": [
        "img_array = image.img_to_array(img)"
      ],
      "metadata": {
        "id": "rDujXlrRPQFG"
      },
      "execution_count": null,
      "outputs": []
    },
    {
      "cell_type": "code",
      "source": [
        "img_array.shape"
      ],
      "metadata": {
        "colab": {
          "base_uri": "https://localhost:8080/"
        },
        "id": "MAPj1f7zPZmR",
        "outputId": "34e1e925-9966-40c6-f622-91c6379f439f"
      },
      "execution_count": null,
      "outputs": [
        {
          "output_type": "execute_result",
          "data": {
            "text/plain": [
              "(224, 224, 3)"
            ]
          },
          "metadata": {},
          "execution_count": 5
        }
      ]
    },
    {
      "cell_type": "code",
      "source": [
        "import numpy as np\n",
        "expanded_img_array = np.expand_dims(img_array, axis=0)\n",
        "print(expanded_img_array.shape)"
      ],
      "metadata": {
        "colab": {
          "base_uri": "https://localhost:8080/"
        },
        "id": "lBnik1gjPhjx",
        "outputId": "678f8603-d944-4e88-9afa-762792109238"
      },
      "execution_count": null,
      "outputs": [
        {
          "output_type": "stream",
          "name": "stdout",
          "text": [
            "(1, 224, 224, 3)\n"
          ]
        }
      ]
    },
    {
      "cell_type": "code",
      "source": [
        "#batch of images with 4D and this is expansion of 1 image\n",
        "expanded_img_array"
      ],
      "metadata": {
        "colab": {
          "base_uri": "https://localhost:8080/"
        },
        "id": "06LG7YzGQkGh",
        "outputId": "ac324580-36cb-40b0-be60-e42902a81e8d"
      },
      "execution_count": null,
      "outputs": [
        {
          "output_type": "execute_result",
          "data": {
            "text/plain": [
              "array([[[[255., 255., 255.],\n",
              "         [255., 255., 255.],\n",
              "         [255., 255., 255.],\n",
              "         ...,\n",
              "         [255., 255., 255.],\n",
              "         [255., 255., 255.],\n",
              "         [255., 255., 255.]],\n",
              "\n",
              "        [[255., 255., 255.],\n",
              "         [255., 255., 255.],\n",
              "         [255., 255., 255.],\n",
              "         ...,\n",
              "         [255., 255., 255.],\n",
              "         [255., 255., 255.],\n",
              "         [255., 255., 255.]],\n",
              "\n",
              "        [[255., 255., 255.],\n",
              "         [255., 255., 255.],\n",
              "         [255., 255., 255.],\n",
              "         ...,\n",
              "         [255., 255., 255.],\n",
              "         [255., 255., 255.],\n",
              "         [255., 255., 255.]],\n",
              "\n",
              "        ...,\n",
              "\n",
              "        [[255., 255., 255.],\n",
              "         [255., 255., 255.],\n",
              "         [255., 255., 255.],\n",
              "         ...,\n",
              "         [255., 255., 255.],\n",
              "         [255., 255., 255.],\n",
              "         [255., 255., 255.]],\n",
              "\n",
              "        [[255., 255., 255.],\n",
              "         [255., 255., 255.],\n",
              "         [255., 255., 255.],\n",
              "         ...,\n",
              "         [255., 255., 255.],\n",
              "         [255., 255., 255.],\n",
              "         [255., 255., 255.]],\n",
              "\n",
              "        [[255., 255., 255.],\n",
              "         [255., 255., 255.],\n",
              "         [255., 255., 255.],\n",
              "         ...,\n",
              "         [255., 255., 255.],\n",
              "         [255., 255., 255.],\n",
              "         [255., 255., 255.]]]], dtype=float32)"
            ]
          },
          "metadata": {},
          "execution_count": 7
        }
      ]
    },
    {
      "cell_type": "code",
      "source": [
        "from tensorflow.keras.applications.resnet50 import ResNet50, preprocess_input"
      ],
      "metadata": {
        "id": "YEk9OWN9QnNd"
      },
      "execution_count": null,
      "outputs": []
    },
    {
      "cell_type": "code",
      "source": [
        "import tensorflow\n",
        "from tensorflow.keras.preprocessing import image\n",
        "from tensorflow.keras.layers import GlobalMaxPooling2D\n"
      ],
      "metadata": {
        "id": "iWIOYH5VRSBu"
      },
      "execution_count": null,
      "outputs": []
    },
    {
      "cell_type": "code",
      "source": [
        "model = ResNet50(weights='imagenet', include_top=False, input_shape=(224,224,3))\n",
        "model.trainable = False\n",
        "\n",
        "model = tensorflow.keras.Sequential([model,\n",
        "                                     GlobalMaxPooling2D()\n",
        "                                     ])"
      ],
      "metadata": {
        "colab": {
          "base_uri": "https://localhost:8080/"
        },
        "id": "wisycChRlS82",
        "outputId": "6d0fb5f8-ec8d-42d6-f81a-ca089dc25958"
      },
      "execution_count": null,
      "outputs": [
        {
          "output_type": "stream",
          "name": "stdout",
          "text": [
            "Downloading data from https://storage.googleapis.com/tensorflow/keras-applications/resnet/resnet50_weights_tf_dim_ordering_tf_kernels_notop.h5\n",
            "\u001b[1m94765736/94765736\u001b[0m \u001b[32m━━━━━━━━━━━━━━━━━━━━\u001b[0m\u001b[37m\u001b[0m \u001b[1m0s\u001b[0m 0us/step\n"
          ]
        }
      ]
    },
    {
      "cell_type": "code",
      "source": [
        "preprocessed_img = preprocess_input(expanded_img_array)\n",
        "print(preprocessed_img.shape)\n",
        "preprocessed_img"
      ],
      "metadata": {
        "colab": {
          "base_uri": "https://localhost:8080/"
        },
        "id": "5zX5wWswmGhe",
        "outputId": "4995ed5a-c280-45c4-f011-f0048fa9c03d"
      },
      "execution_count": null,
      "outputs": [
        {
          "output_type": "stream",
          "name": "stdout",
          "text": [
            "(1, 224, 224, 3)\n"
          ]
        },
        {
          "output_type": "execute_result",
          "data": {
            "text/plain": [
              "array([[[[151.061  , 138.22101, 131.32   ],\n",
              "         [151.061  , 138.22101, 131.32   ],\n",
              "         [151.061  , 138.22101, 131.32   ],\n",
              "         ...,\n",
              "         [151.061  , 138.22101, 131.32   ],\n",
              "         [151.061  , 138.22101, 131.32   ],\n",
              "         [151.061  , 138.22101, 131.32   ]],\n",
              "\n",
              "        [[151.061  , 138.22101, 131.32   ],\n",
              "         [151.061  , 138.22101, 131.32   ],\n",
              "         [151.061  , 138.22101, 131.32   ],\n",
              "         ...,\n",
              "         [151.061  , 138.22101, 131.32   ],\n",
              "         [151.061  , 138.22101, 131.32   ],\n",
              "         [151.061  , 138.22101, 131.32   ]],\n",
              "\n",
              "        [[151.061  , 138.22101, 131.32   ],\n",
              "         [151.061  , 138.22101, 131.32   ],\n",
              "         [151.061  , 138.22101, 131.32   ],\n",
              "         ...,\n",
              "         [151.061  , 138.22101, 131.32   ],\n",
              "         [151.061  , 138.22101, 131.32   ],\n",
              "         [151.061  , 138.22101, 131.32   ]],\n",
              "\n",
              "        ...,\n",
              "\n",
              "        [[151.061  , 138.22101, 131.32   ],\n",
              "         [151.061  , 138.22101, 131.32   ],\n",
              "         [151.061  , 138.22101, 131.32   ],\n",
              "         ...,\n",
              "         [151.061  , 138.22101, 131.32   ],\n",
              "         [151.061  , 138.22101, 131.32   ],\n",
              "         [151.061  , 138.22101, 131.32   ]],\n",
              "\n",
              "        [[151.061  , 138.22101, 131.32   ],\n",
              "         [151.061  , 138.22101, 131.32   ],\n",
              "         [151.061  , 138.22101, 131.32   ],\n",
              "         ...,\n",
              "         [151.061  , 138.22101, 131.32   ],\n",
              "         [151.061  , 138.22101, 131.32   ],\n",
              "         [151.061  , 138.22101, 131.32   ]],\n",
              "\n",
              "        [[151.061  , 138.22101, 131.32   ],\n",
              "         [151.061  , 138.22101, 131.32   ],\n",
              "         [151.061  , 138.22101, 131.32   ],\n",
              "         ...,\n",
              "         [151.061  , 138.22101, 131.32   ],\n",
              "         [151.061  , 138.22101, 131.32   ],\n",
              "         [151.061  , 138.22101, 131.32   ]]]], dtype=float32)"
            ]
          },
          "metadata": {},
          "execution_count": 12
        }
      ]
    },
    {
      "cell_type": "code",
      "source": [
        "model.predict(preprocessed_img)"
      ],
      "metadata": {
        "colab": {
          "base_uri": "https://localhost:8080/"
        },
        "id": "nksY5qPOm5iq",
        "outputId": "7884332f-46b1-49d3-ddf1-be1d9d0def70"
      },
      "execution_count": null,
      "outputs": [
        {
          "output_type": "stream",
          "name": "stdout",
          "text": [
            "\u001b[1m1/1\u001b[0m \u001b[32m━━━━━━━━━━━━━━━━━━━━\u001b[0m\u001b[37m\u001b[0m \u001b[1m6s\u001b[0m 6s/step\n"
          ]
        },
        {
          "output_type": "execute_result",
          "data": {
            "text/plain": [
              "array([[ 1.6351323, 19.324389 ,  1.8080347, ...,  1.1685892, 17.43746  ,\n",
              "        12.0990505]], dtype=float32)"
            ]
          },
          "metadata": {},
          "execution_count": 13
        }
      ]
    },
    {
      "cell_type": "code",
      "source": [
        "model.predict(preprocessed_img).flatten()"
      ],
      "metadata": {
        "colab": {
          "base_uri": "https://localhost:8080/"
        },
        "id": "0JaseUtrnXDP",
        "outputId": "c14ddf7d-ea84-4b7d-c8a9-c4d058d653e5"
      },
      "execution_count": null,
      "outputs": [
        {
          "output_type": "stream",
          "name": "stdout",
          "text": [
            "\u001b[1m1/1\u001b[0m \u001b[32m━━━━━━━━━━━━━━━━━━━━\u001b[0m\u001b[37m\u001b[0m \u001b[1m0s\u001b[0m 44ms/step\n"
          ]
        },
        {
          "output_type": "execute_result",
          "data": {
            "text/plain": [
              "array([ 1.6351323, 19.324389 ,  1.8080347, ...,  1.1685892, 17.43746  ,\n",
              "       12.0990505], dtype=float32)"
            ]
          },
          "metadata": {},
          "execution_count": 14
        }
      ]
    },
    {
      "cell_type": "code",
      "source": [
        "\n",
        "model.predict(preprocessed_img).flatten()/np.linalg.norm(model.predict(preprocessed_img).flatten())"
      ],
      "metadata": {
        "colab": {
          "base_uri": "https://localhost:8080/"
        },
        "id": "7EqNChXAniCP",
        "outputId": "04fa3fbb-589e-4749-ecae-a20349210b69"
      },
      "execution_count": null,
      "outputs": [
        {
          "output_type": "stream",
          "name": "stdout",
          "text": [
            "\u001b[1m1/1\u001b[0m \u001b[32m━━━━━━━━━━━━━━━━━━━━\u001b[0m\u001b[37m\u001b[0m \u001b[1m0s\u001b[0m 44ms/step\n",
            "\u001b[1m1/1\u001b[0m \u001b[32m━━━━━━━━━━━━━━━━━━━━\u001b[0m\u001b[37m\u001b[0m \u001b[1m0s\u001b[0m 45ms/step\n"
          ]
        },
        {
          "output_type": "execute_result",
          "data": {
            "text/plain": [
              "array([0.00491865, 0.05812977, 0.00543876, ..., 0.00351524, 0.05245369,\n",
              "       0.0363952 ], dtype=float32)"
            ]
          },
          "metadata": {},
          "execution_count": 17
        }
      ]
    },
    {
      "cell_type": "code",
      "source": [
        "from numpy.linalg import norm\n",
        "norm(model.predict(preprocessed_img).flatten())"
      ],
      "metadata": {
        "colab": {
          "base_uri": "https://localhost:8080/"
        },
        "id": "_Q1kOBEhn5CE",
        "outputId": "ef59d673-029b-4027-c943-d1e0d6fa9687"
      },
      "execution_count": null,
      "outputs": [
        {
          "output_type": "stream",
          "name": "stdout",
          "text": [
            "\u001b[1m1/1\u001b[0m \u001b[32m━━━━━━━━━━━━━━━━━━━━\u001b[0m\u001b[37m\u001b[0m \u001b[1m0s\u001b[0m 46ms/step\n"
          ]
        },
        {
          "output_type": "execute_result",
          "data": {
            "text/plain": [
              "np.float32(332.43533)"
            ]
          },
          "metadata": {},
          "execution_count": 19
        }
      ]
    },
    {
      "cell_type": "code",
      "source": [
        "np.sqrt(np.dot(model.predict(preprocessed_img).flatten(),model.predict(preprocessed_img).flatten()))"
      ],
      "metadata": {
        "colab": {
          "base_uri": "https://localhost:8080/"
        },
        "id": "gpW9omw0owwq",
        "outputId": "6ecab9a4-7655-4cf1-aef5-51e84c0ff0b8"
      },
      "execution_count": null,
      "outputs": [
        {
          "output_type": "stream",
          "name": "stdout",
          "text": [
            "\u001b[1m1/1\u001b[0m \u001b[32m━━━━━━━━━━━━━━━━━━━━\u001b[0m\u001b[37m\u001b[0m \u001b[1m0s\u001b[0m 60ms/step\n",
            "\u001b[1m1/1\u001b[0m \u001b[32m━━━━━━━━━━━━━━━━━━━━\u001b[0m\u001b[37m\u001b[0m \u001b[1m0s\u001b[0m 77ms/step\n"
          ]
        },
        {
          "output_type": "execute_result",
          "data": {
            "text/plain": [
              "np.float32(332.43533)"
            ]
          },
          "metadata": {},
          "execution_count": 20
        }
      ]
    },
    {
      "cell_type": "code",
      "source": [],
      "metadata": {
        "id": "itSzJOLMpH2r"
      },
      "execution_count": null,
      "outputs": []
    }
  ]
}